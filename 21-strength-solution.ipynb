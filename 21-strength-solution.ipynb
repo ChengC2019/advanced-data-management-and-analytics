{
 "cells": [
  {
   "cell_type": "code",
   "execution_count": 1,
   "metadata": {},
   "outputs": [],
   "source": [
    "import pandas as pd"
   ]
  },
  {
   "cell_type": "code",
   "execution_count": 2,
   "metadata": {},
   "outputs": [
    {
     "data": {
      "text/html": [
       "<div>\n",
       "<style scoped>\n",
       "    .dataframe tbody tr th:only-of-type {\n",
       "        vertical-align: middle;\n",
       "    }\n",
       "\n",
       "    .dataframe tbody tr th {\n",
       "        vertical-align: top;\n",
       "    }\n",
       "\n",
       "    .dataframe thead th {\n",
       "        text-align: right;\n",
       "    }\n",
       "</style>\n",
       "<table border=\"1\" class=\"dataframe\">\n",
       "  <thead>\n",
       "    <tr style=\"text-align: right;\">\n",
       "      <th></th>\n",
       "      <th>class</th>\n",
       "      <th>student</th>\n",
       "      <th>exam1</th>\n",
       "      <th>exam2</th>\n",
       "      <th>exam3</th>\n",
       "    </tr>\n",
       "  </thead>\n",
       "  <tbody>\n",
       "    <tr>\n",
       "      <th>0</th>\n",
       "      <td>Java</td>\n",
       "      <td>Alice</td>\n",
       "      <td>66</td>\n",
       "      <td>77</td>\n",
       "      <td>88</td>\n",
       "    </tr>\n",
       "    <tr>\n",
       "      <th>1</th>\n",
       "      <td>Python</td>\n",
       "      <td>Alice</td>\n",
       "      <td>56</td>\n",
       "      <td>77</td>\n",
       "      <td>88</td>\n",
       "    </tr>\n",
       "    <tr>\n",
       "      <th>2</th>\n",
       "      <td>Java</td>\n",
       "      <td>Bob</td>\n",
       "      <td>89</td>\n",
       "      <td>53</td>\n",
       "      <td>56</td>\n",
       "    </tr>\n",
       "    <tr>\n",
       "      <th>3</th>\n",
       "      <td>Python</td>\n",
       "      <td>Bob</td>\n",
       "      <td>56</td>\n",
       "      <td>88</td>\n",
       "      <td>99</td>\n",
       "    </tr>\n",
       "    <tr>\n",
       "      <th>4</th>\n",
       "      <td>Java</td>\n",
       "      <td>Bo</td>\n",
       "      <td>22</td>\n",
       "      <td>56</td>\n",
       "      <td>66</td>\n",
       "    </tr>\n",
       "    <tr>\n",
       "      <th>5</th>\n",
       "      <td>Python</td>\n",
       "      <td>Sam</td>\n",
       "      <td>89</td>\n",
       "      <td>99</td>\n",
       "      <td>88</td>\n",
       "    </tr>\n",
       "  </tbody>\n",
       "</table>\n",
       "</div>"
      ],
      "text/plain": [
       "    class student  exam1  exam2  exam3\n",
       "0    Java   Alice     66     77     88\n",
       "1  Python   Alice     56     77     88\n",
       "2    Java     Bob     89     53     56\n",
       "3  Python     Bob     56     88     99\n",
       "4    Java      Bo     22     56     66\n",
       "5  Python     Sam     89     99     88"
      ]
     },
     "execution_count": 2,
     "metadata": {},
     "output_type": "execute_result"
    }
   ],
   "source": [
    "df = pd.DataFrame( [\n",
    "                    ['Java', 'Alice', 66, 77, 88],\n",
    "                    ['Python','Alice',56, 77, 88],\n",
    "                    ['Java', 'Bob', 89, 53, 56],\n",
    "                    ['Python','Bob',56, 88, 99],\n",
    "                    ['Java', 'Bo', 22, 56, 66],\n",
    "                    ['Python','Sam',89, 99, 88]\n",
    "                    ], columns = ['class', 'student', 'exam1', 'exam2', 'exam3'])\n",
    "df"
   ]
  },
  {
   "cell_type": "markdown",
   "metadata": {},
   "source": [
    "The final grade is the average of the best two exam\n",
    "1. What is the final grade of each student\n",
    "- What is the average final grade of each class\n",
    "- What students did better than the average in each class\n",
    "- What students did better than the average in both classes"
   ]
  },
  {
   "cell_type": "markdown",
   "metadata": {},
   "source": [
    "## 1"
   ]
  },
  {
   "cell_type": "code",
   "execution_count": 9,
   "metadata": {},
   "outputs": [],
   "source": [
    "#1 approach-1 write a function and apply it on the data frame\n",
    "def score(list_of_numbers):\n",
    "    return ( sum(list_of_numbers) - min(list_of_numbers) ) /  ( len(list_of_numbers) - 1)"
   ]
  },
  {
   "cell_type": "code",
   "execution_count": 12,
   "metadata": {},
   "outputs": [
    {
     "data": {
      "text/html": [
       "<div>\n",
       "<style scoped>\n",
       "    .dataframe tbody tr th:only-of-type {\n",
       "        vertical-align: middle;\n",
       "    }\n",
       "\n",
       "    .dataframe tbody tr th {\n",
       "        vertical-align: top;\n",
       "    }\n",
       "\n",
       "    .dataframe thead th {\n",
       "        text-align: right;\n",
       "    }\n",
       "</style>\n",
       "<table border=\"1\" class=\"dataframe\">\n",
       "  <thead>\n",
       "    <tr style=\"text-align: right;\">\n",
       "      <th></th>\n",
       "      <th>class</th>\n",
       "      <th>student</th>\n",
       "      <th>exam1</th>\n",
       "      <th>exam2</th>\n",
       "      <th>exam3</th>\n",
       "      <th>score</th>\n",
       "    </tr>\n",
       "  </thead>\n",
       "  <tbody>\n",
       "    <tr>\n",
       "      <th>0</th>\n",
       "      <td>Java</td>\n",
       "      <td>Alice</td>\n",
       "      <td>66</td>\n",
       "      <td>77</td>\n",
       "      <td>88</td>\n",
       "      <td>82.5</td>\n",
       "    </tr>\n",
       "    <tr>\n",
       "      <th>1</th>\n",
       "      <td>Python</td>\n",
       "      <td>Alice</td>\n",
       "      <td>56</td>\n",
       "      <td>77</td>\n",
       "      <td>88</td>\n",
       "      <td>82.5</td>\n",
       "    </tr>\n",
       "    <tr>\n",
       "      <th>2</th>\n",
       "      <td>Java</td>\n",
       "      <td>Bob</td>\n",
       "      <td>89</td>\n",
       "      <td>53</td>\n",
       "      <td>56</td>\n",
       "      <td>72.5</td>\n",
       "    </tr>\n",
       "    <tr>\n",
       "      <th>3</th>\n",
       "      <td>Python</td>\n",
       "      <td>Bob</td>\n",
       "      <td>56</td>\n",
       "      <td>88</td>\n",
       "      <td>99</td>\n",
       "      <td>93.5</td>\n",
       "    </tr>\n",
       "    <tr>\n",
       "      <th>4</th>\n",
       "      <td>Java</td>\n",
       "      <td>Bo</td>\n",
       "      <td>22</td>\n",
       "      <td>56</td>\n",
       "      <td>66</td>\n",
       "      <td>61.0</td>\n",
       "    </tr>\n",
       "    <tr>\n",
       "      <th>5</th>\n",
       "      <td>Python</td>\n",
       "      <td>Sam</td>\n",
       "      <td>89</td>\n",
       "      <td>99</td>\n",
       "      <td>88</td>\n",
       "      <td>94.0</td>\n",
       "    </tr>\n",
       "  </tbody>\n",
       "</table>\n",
       "</div>"
      ],
      "text/plain": [
       "    class student  exam1  exam2  exam3  score\n",
       "0    Java   Alice     66     77     88   82.5\n",
       "1  Python   Alice     56     77     88   82.5\n",
       "2    Java     Bob     89     53     56   72.5\n",
       "3  Python     Bob     56     88     99   93.5\n",
       "4    Java      Bo     22     56     66   61.0\n",
       "5  Python     Sam     89     99     88   94.0"
      ]
     },
     "execution_count": 12,
     "metadata": {},
     "output_type": "execute_result"
    }
   ],
   "source": [
    "#because applying on a data frame, we need to sepcify the axis\n",
    "df['score'] = df[['exam1', 'exam2', 'exam3']].apply(score, axis=1)\n",
    "df"
   ]
  },
  {
   "cell_type": "code",
   "execution_count": 21,
   "metadata": {},
   "outputs": [],
   "source": [
    "# approach-2, operate of the columns as series"
   ]
  },
  {
   "cell_type": "code",
   "execution_count": 15,
   "metadata": {},
   "outputs": [],
   "source": [
    "df['total'] = df['exam1'] + df['exam2'] + df['exam3']"
   ]
  },
  {
   "cell_type": "code",
   "execution_count": 18,
   "metadata": {},
   "outputs": [],
   "source": [
    "# next we need to calculate the minimum grade of each row\n",
    "df['min'] = df[['exam1', 'exam2', 'exam3']].T.min()"
   ]
  },
  {
   "cell_type": "code",
   "execution_count": 19,
   "metadata": {},
   "outputs": [],
   "source": [
    "df['score'] = (df['total'] - df['min']) / 2"
   ]
  },
  {
   "cell_type": "code",
   "execution_count": 20,
   "metadata": {},
   "outputs": [
    {
     "data": {
      "text/html": [
       "<div>\n",
       "<style scoped>\n",
       "    .dataframe tbody tr th:only-of-type {\n",
       "        vertical-align: middle;\n",
       "    }\n",
       "\n",
       "    .dataframe tbody tr th {\n",
       "        vertical-align: top;\n",
       "    }\n",
       "\n",
       "    .dataframe thead th {\n",
       "        text-align: right;\n",
       "    }\n",
       "</style>\n",
       "<table border=\"1\" class=\"dataframe\">\n",
       "  <thead>\n",
       "    <tr style=\"text-align: right;\">\n",
       "      <th></th>\n",
       "      <th>class</th>\n",
       "      <th>student</th>\n",
       "      <th>exam1</th>\n",
       "      <th>exam2</th>\n",
       "      <th>exam3</th>\n",
       "      <th>score</th>\n",
       "      <th>total</th>\n",
       "      <th>min</th>\n",
       "    </tr>\n",
       "  </thead>\n",
       "  <tbody>\n",
       "    <tr>\n",
       "      <th>0</th>\n",
       "      <td>Java</td>\n",
       "      <td>Alice</td>\n",
       "      <td>66</td>\n",
       "      <td>77</td>\n",
       "      <td>88</td>\n",
       "      <td>82.5</td>\n",
       "      <td>231</td>\n",
       "      <td>66</td>\n",
       "    </tr>\n",
       "    <tr>\n",
       "      <th>1</th>\n",
       "      <td>Python</td>\n",
       "      <td>Alice</td>\n",
       "      <td>56</td>\n",
       "      <td>77</td>\n",
       "      <td>88</td>\n",
       "      <td>82.5</td>\n",
       "      <td>221</td>\n",
       "      <td>56</td>\n",
       "    </tr>\n",
       "    <tr>\n",
       "      <th>2</th>\n",
       "      <td>Java</td>\n",
       "      <td>Bob</td>\n",
       "      <td>89</td>\n",
       "      <td>53</td>\n",
       "      <td>56</td>\n",
       "      <td>72.5</td>\n",
       "      <td>198</td>\n",
       "      <td>53</td>\n",
       "    </tr>\n",
       "    <tr>\n",
       "      <th>3</th>\n",
       "      <td>Python</td>\n",
       "      <td>Bob</td>\n",
       "      <td>56</td>\n",
       "      <td>88</td>\n",
       "      <td>99</td>\n",
       "      <td>93.5</td>\n",
       "      <td>243</td>\n",
       "      <td>56</td>\n",
       "    </tr>\n",
       "    <tr>\n",
       "      <th>4</th>\n",
       "      <td>Java</td>\n",
       "      <td>Bo</td>\n",
       "      <td>22</td>\n",
       "      <td>56</td>\n",
       "      <td>66</td>\n",
       "      <td>61.0</td>\n",
       "      <td>144</td>\n",
       "      <td>22</td>\n",
       "    </tr>\n",
       "    <tr>\n",
       "      <th>5</th>\n",
       "      <td>Python</td>\n",
       "      <td>Sam</td>\n",
       "      <td>89</td>\n",
       "      <td>99</td>\n",
       "      <td>88</td>\n",
       "      <td>94.0</td>\n",
       "      <td>276</td>\n",
       "      <td>88</td>\n",
       "    </tr>\n",
       "  </tbody>\n",
       "</table>\n",
       "</div>"
      ],
      "text/plain": [
       "    class student  exam1  exam2  exam3  score  total  min\n",
       "0    Java   Alice     66     77     88   82.5    231   66\n",
       "1  Python   Alice     56     77     88   82.5    221   56\n",
       "2    Java     Bob     89     53     56   72.5    198   53\n",
       "3  Python     Bob     56     88     99   93.5    243   56\n",
       "4    Java      Bo     22     56     66   61.0    144   22\n",
       "5  Python     Sam     89     99     88   94.0    276   88"
      ]
     },
     "execution_count": 20,
     "metadata": {},
     "output_type": "execute_result"
    }
   ],
   "source": [
    "df"
   ]
  },
  {
   "cell_type": "markdown",
   "metadata": {},
   "source": [
    "# 2"
   ]
  },
  {
   "cell_type": "code",
   "execution_count": 23,
   "metadata": {},
   "outputs": [
    {
     "data": {
      "text/plain": [
       "class\n",
       "Java      72.0\n",
       "Python    90.0\n",
       "Name: score, dtype: float64"
      ]
     },
     "execution_count": 23,
     "metadata": {},
     "output_type": "execute_result"
    }
   ],
   "source": [
    "course_avg = df.groupby('class')['score'].mean()\n",
    "course_avg"
   ]
  },
  {
   "cell_type": "markdown",
   "metadata": {},
   "source": [
    "# 3"
   ]
  },
  {
   "cell_type": "code",
   "execution_count": 28,
   "metadata": {},
   "outputs": [
    {
     "data": {
      "text/plain": [
       "0     True\n",
       "1    False\n",
       "2     True\n",
       "3     True\n",
       "4    False\n",
       "5     True\n",
       "Name: score, dtype: bool"
      ]
     },
     "execution_count": 28,
     "metadata": {},
     "output_type": "execute_result"
    }
   ],
   "source": [
    "# approach-1, transform score by comparing it to the group mean\n",
    "# this will return a mask\n",
    "mask = df.groupby('class')['score'].transform(lambda x: x > x.mean())\n",
    "mask"
   ]
  },
  {
   "cell_type": "code",
   "execution_count": 29,
   "metadata": {},
   "outputs": [
    {
     "data": {
      "text/html": [
       "<div>\n",
       "<style scoped>\n",
       "    .dataframe tbody tr th:only-of-type {\n",
       "        vertical-align: middle;\n",
       "    }\n",
       "\n",
       "    .dataframe tbody tr th {\n",
       "        vertical-align: top;\n",
       "    }\n",
       "\n",
       "    .dataframe thead th {\n",
       "        text-align: right;\n",
       "    }\n",
       "</style>\n",
       "<table border=\"1\" class=\"dataframe\">\n",
       "  <thead>\n",
       "    <tr style=\"text-align: right;\">\n",
       "      <th></th>\n",
       "      <th>class</th>\n",
       "      <th>student</th>\n",
       "      <th>exam1</th>\n",
       "      <th>exam2</th>\n",
       "      <th>exam3</th>\n",
       "      <th>score</th>\n",
       "      <th>total</th>\n",
       "      <th>min</th>\n",
       "    </tr>\n",
       "  </thead>\n",
       "  <tbody>\n",
       "    <tr>\n",
       "      <th>0</th>\n",
       "      <td>Java</td>\n",
       "      <td>Alice</td>\n",
       "      <td>66</td>\n",
       "      <td>77</td>\n",
       "      <td>88</td>\n",
       "      <td>82.5</td>\n",
       "      <td>231</td>\n",
       "      <td>66</td>\n",
       "    </tr>\n",
       "    <tr>\n",
       "      <th>2</th>\n",
       "      <td>Java</td>\n",
       "      <td>Bob</td>\n",
       "      <td>89</td>\n",
       "      <td>53</td>\n",
       "      <td>56</td>\n",
       "      <td>72.5</td>\n",
       "      <td>198</td>\n",
       "      <td>53</td>\n",
       "    </tr>\n",
       "    <tr>\n",
       "      <th>3</th>\n",
       "      <td>Python</td>\n",
       "      <td>Bob</td>\n",
       "      <td>56</td>\n",
       "      <td>88</td>\n",
       "      <td>99</td>\n",
       "      <td>93.5</td>\n",
       "      <td>243</td>\n",
       "      <td>56</td>\n",
       "    </tr>\n",
       "    <tr>\n",
       "      <th>5</th>\n",
       "      <td>Python</td>\n",
       "      <td>Sam</td>\n",
       "      <td>89</td>\n",
       "      <td>99</td>\n",
       "      <td>88</td>\n",
       "      <td>94.0</td>\n",
       "      <td>276</td>\n",
       "      <td>88</td>\n",
       "    </tr>\n",
       "  </tbody>\n",
       "</table>\n",
       "</div>"
      ],
      "text/plain": [
       "    class student  exam1  exam2  exam3  score  total  min\n",
       "0    Java   Alice     66     77     88   82.5    231   66\n",
       "2    Java     Bob     89     53     56   72.5    198   53\n",
       "3  Python     Bob     56     88     99   93.5    243   56\n",
       "5  Python     Sam     89     99     88   94.0    276   88"
      ]
     },
     "execution_count": 29,
     "metadata": {},
     "output_type": "execute_result"
    }
   ],
   "source": [
    "df[mask]"
   ]
  },
  {
   "cell_type": "code",
   "execution_count": 27,
   "metadata": {},
   "outputs": [
    {
     "data": {
      "text/plain": [
       "{'Alice', 'Bob', 'Sam'}"
      ]
     },
     "execution_count": 27,
     "metadata": {},
     "output_type": "execute_result"
    }
   ],
   "source": [
    "# if we want just names of students\n",
    "set(df[mask].student)"
   ]
  },
  {
   "cell_type": "code",
   "execution_count": 35,
   "metadata": {},
   "outputs": [
    {
     "data": {
      "text/plain": [
       "class\n",
       "Java      72.0\n",
       "Python    90.0\n",
       "Name: score, dtype: float64"
      ]
     },
     "execution_count": 35,
     "metadata": {},
     "output_type": "execute_result"
    }
   ],
   "source": [
    "# approach-2, calculate group mean and join it with the original data\n",
    "# then select when score > group mean\n",
    "avg_score = df.groupby('class')['score'].mean()\n",
    "avg_score"
   ]
  },
  {
   "cell_type": "code",
   "execution_count": 39,
   "metadata": {},
   "outputs": [
    {
     "data": {
      "text/html": [
       "<div>\n",
       "<style scoped>\n",
       "    .dataframe tbody tr th:only-of-type {\n",
       "        vertical-align: middle;\n",
       "    }\n",
       "\n",
       "    .dataframe tbody tr th {\n",
       "        vertical-align: top;\n",
       "    }\n",
       "\n",
       "    .dataframe thead th {\n",
       "        text-align: right;\n",
       "    }\n",
       "</style>\n",
       "<table border=\"1\" class=\"dataframe\">\n",
       "  <thead>\n",
       "    <tr style=\"text-align: right;\">\n",
       "      <th></th>\n",
       "      <th>student</th>\n",
       "      <th>exam1</th>\n",
       "      <th>exam2</th>\n",
       "      <th>exam3</th>\n",
       "      <th>score</th>\n",
       "      <th>total</th>\n",
       "      <th>min</th>\n",
       "      <th>better_than_average</th>\n",
       "      <th>score_avg</th>\n",
       "    </tr>\n",
       "    <tr>\n",
       "      <th>class</th>\n",
       "      <th></th>\n",
       "      <th></th>\n",
       "      <th></th>\n",
       "      <th></th>\n",
       "      <th></th>\n",
       "      <th></th>\n",
       "      <th></th>\n",
       "      <th></th>\n",
       "      <th></th>\n",
       "    </tr>\n",
       "  </thead>\n",
       "  <tbody>\n",
       "    <tr>\n",
       "      <th>Java</th>\n",
       "      <td>Alice</td>\n",
       "      <td>66</td>\n",
       "      <td>77</td>\n",
       "      <td>88</td>\n",
       "      <td>82.5</td>\n",
       "      <td>231</td>\n",
       "      <td>66</td>\n",
       "      <td>True</td>\n",
       "      <td>72.0</td>\n",
       "    </tr>\n",
       "    <tr>\n",
       "      <th>Java</th>\n",
       "      <td>Bob</td>\n",
       "      <td>89</td>\n",
       "      <td>53</td>\n",
       "      <td>56</td>\n",
       "      <td>72.5</td>\n",
       "      <td>198</td>\n",
       "      <td>53</td>\n",
       "      <td>True</td>\n",
       "      <td>72.0</td>\n",
       "    </tr>\n",
       "    <tr>\n",
       "      <th>Java</th>\n",
       "      <td>Bo</td>\n",
       "      <td>22</td>\n",
       "      <td>56</td>\n",
       "      <td>66</td>\n",
       "      <td>61.0</td>\n",
       "      <td>144</td>\n",
       "      <td>22</td>\n",
       "      <td>False</td>\n",
       "      <td>72.0</td>\n",
       "    </tr>\n",
       "    <tr>\n",
       "      <th>Python</th>\n",
       "      <td>Alice</td>\n",
       "      <td>56</td>\n",
       "      <td>77</td>\n",
       "      <td>88</td>\n",
       "      <td>82.5</td>\n",
       "      <td>221</td>\n",
       "      <td>56</td>\n",
       "      <td>False</td>\n",
       "      <td>90.0</td>\n",
       "    </tr>\n",
       "    <tr>\n",
       "      <th>Python</th>\n",
       "      <td>Bob</td>\n",
       "      <td>56</td>\n",
       "      <td>88</td>\n",
       "      <td>99</td>\n",
       "      <td>93.5</td>\n",
       "      <td>243</td>\n",
       "      <td>56</td>\n",
       "      <td>True</td>\n",
       "      <td>90.0</td>\n",
       "    </tr>\n",
       "    <tr>\n",
       "      <th>Python</th>\n",
       "      <td>Sam</td>\n",
       "      <td>89</td>\n",
       "      <td>99</td>\n",
       "      <td>88</td>\n",
       "      <td>94.0</td>\n",
       "      <td>276</td>\n",
       "      <td>88</td>\n",
       "      <td>True</td>\n",
       "      <td>90.0</td>\n",
       "    </tr>\n",
       "  </tbody>\n",
       "</table>\n",
       "</div>"
      ],
      "text/plain": [
       "       student  exam1  exam2  exam3  score  total  min  better_than_average  \\\n",
       "class                                                                         \n",
       "Java     Alice     66     77     88   82.5    231   66                 True   \n",
       "Java       Bob     89     53     56   72.5    198   53                 True   \n",
       "Java        Bo     22     56     66   61.0    144   22                False   \n",
       "Python   Alice     56     77     88   82.5    221   56                False   \n",
       "Python     Bob     56     88     99   93.5    243   56                 True   \n",
       "Python     Sam     89     99     88   94.0    276   88                 True   \n",
       "\n",
       "        score_avg  \n",
       "class              \n",
       "Java         72.0  \n",
       "Java         72.0  \n",
       "Java         72.0  \n",
       "Python       90.0  \n",
       "Python       90.0  \n",
       "Python       90.0  "
      ]
     },
     "execution_count": 39,
     "metadata": {},
     "output_type": "execute_result"
    }
   ],
   "source": [
    "new_data = df.set_index('class').join(avg_score, rsuffix='_avg')\n",
    "new_data"
   ]
  },
  {
   "cell_type": "code",
   "execution_count": 48,
   "metadata": {},
   "outputs": [
    {
     "data": {
      "text/html": [
       "<div>\n",
       "<style scoped>\n",
       "    .dataframe tbody tr th:only-of-type {\n",
       "        vertical-align: middle;\n",
       "    }\n",
       "\n",
       "    .dataframe tbody tr th {\n",
       "        vertical-align: top;\n",
       "    }\n",
       "\n",
       "    .dataframe thead th {\n",
       "        text-align: right;\n",
       "    }\n",
       "</style>\n",
       "<table border=\"1\" class=\"dataframe\">\n",
       "  <thead>\n",
       "    <tr style=\"text-align: right;\">\n",
       "      <th></th>\n",
       "      <th>student</th>\n",
       "      <th>exam1</th>\n",
       "      <th>exam2</th>\n",
       "      <th>exam3</th>\n",
       "      <th>score</th>\n",
       "      <th>total</th>\n",
       "      <th>min</th>\n",
       "      <th>better_than_average</th>\n",
       "      <th>score_avg</th>\n",
       "    </tr>\n",
       "    <tr>\n",
       "      <th>class</th>\n",
       "      <th></th>\n",
       "      <th></th>\n",
       "      <th></th>\n",
       "      <th></th>\n",
       "      <th></th>\n",
       "      <th></th>\n",
       "      <th></th>\n",
       "      <th></th>\n",
       "      <th></th>\n",
       "    </tr>\n",
       "  </thead>\n",
       "  <tbody>\n",
       "    <tr>\n",
       "      <th>Java</th>\n",
       "      <td>Alice</td>\n",
       "      <td>66</td>\n",
       "      <td>77</td>\n",
       "      <td>88</td>\n",
       "      <td>82.5</td>\n",
       "      <td>231</td>\n",
       "      <td>66</td>\n",
       "      <td>True</td>\n",
       "      <td>72.0</td>\n",
       "    </tr>\n",
       "    <tr>\n",
       "      <th>Java</th>\n",
       "      <td>Bob</td>\n",
       "      <td>89</td>\n",
       "      <td>53</td>\n",
       "      <td>56</td>\n",
       "      <td>72.5</td>\n",
       "      <td>198</td>\n",
       "      <td>53</td>\n",
       "      <td>True</td>\n",
       "      <td>72.0</td>\n",
       "    </tr>\n",
       "    <tr>\n",
       "      <th>Python</th>\n",
       "      <td>Bob</td>\n",
       "      <td>56</td>\n",
       "      <td>88</td>\n",
       "      <td>99</td>\n",
       "      <td>93.5</td>\n",
       "      <td>243</td>\n",
       "      <td>56</td>\n",
       "      <td>True</td>\n",
       "      <td>90.0</td>\n",
       "    </tr>\n",
       "    <tr>\n",
       "      <th>Python</th>\n",
       "      <td>Sam</td>\n",
       "      <td>89</td>\n",
       "      <td>99</td>\n",
       "      <td>88</td>\n",
       "      <td>94.0</td>\n",
       "      <td>276</td>\n",
       "      <td>88</td>\n",
       "      <td>True</td>\n",
       "      <td>90.0</td>\n",
       "    </tr>\n",
       "  </tbody>\n",
       "</table>\n",
       "</div>"
      ],
      "text/plain": [
       "       student  exam1  exam2  exam3  score  total  min  better_than_average  \\\n",
       "class                                                                         \n",
       "Java     Alice     66     77     88   82.5    231   66                 True   \n",
       "Java       Bob     89     53     56   72.5    198   53                 True   \n",
       "Python     Bob     56     88     99   93.5    243   56                 True   \n",
       "Python     Sam     89     99     88   94.0    276   88                 True   \n",
       "\n",
       "        score_avg  \n",
       "class              \n",
       "Java         72.0  \n",
       "Java         72.0  \n",
       "Python       90.0  \n",
       "Python       90.0  "
      ]
     },
     "execution_count": 48,
     "metadata": {},
     "output_type": "execute_result"
    }
   ],
   "source": [
    "mask = new_data['score'] > new_data['score_avg']\n",
    "d = new_data[mask]\n",
    "d"
   ]
  },
  {
   "cell_type": "code",
   "execution_count": 49,
   "metadata": {},
   "outputs": [
    {
     "data": {
      "text/plain": [
       "{'Alice', 'Bob', 'Sam'}"
      ]
     },
     "execution_count": 49,
     "metadata": {},
     "output_type": "execute_result"
    }
   ],
   "source": [
    "#if we are only interested in student names\n",
    "set(d.student)"
   ]
  },
  {
   "cell_type": "markdown",
   "metadata": {},
   "source": [
    "# 4"
   ]
  },
  {
   "cell_type": "code",
   "execution_count": 42,
   "metadata": {},
   "outputs": [
    {
     "data": {
      "text/html": [
       "<div>\n",
       "<style scoped>\n",
       "    .dataframe tbody tr th:only-of-type {\n",
       "        vertical-align: middle;\n",
       "    }\n",
       "\n",
       "    .dataframe tbody tr th {\n",
       "        vertical-align: top;\n",
       "    }\n",
       "\n",
       "    .dataframe thead th {\n",
       "        text-align: right;\n",
       "    }\n",
       "</style>\n",
       "<table border=\"1\" class=\"dataframe\">\n",
       "  <thead>\n",
       "    <tr style=\"text-align: right;\">\n",
       "      <th></th>\n",
       "      <th>class</th>\n",
       "      <th>student</th>\n",
       "      <th>exam1</th>\n",
       "      <th>exam2</th>\n",
       "      <th>exam3</th>\n",
       "      <th>score</th>\n",
       "      <th>total</th>\n",
       "      <th>min</th>\n",
       "      <th>better_than_average</th>\n",
       "    </tr>\n",
       "  </thead>\n",
       "  <tbody>\n",
       "    <tr>\n",
       "      <th>0</th>\n",
       "      <td>Java</td>\n",
       "      <td>Alice</td>\n",
       "      <td>66</td>\n",
       "      <td>77</td>\n",
       "      <td>88</td>\n",
       "      <td>82.5</td>\n",
       "      <td>231</td>\n",
       "      <td>66</td>\n",
       "      <td>True</td>\n",
       "    </tr>\n",
       "    <tr>\n",
       "      <th>1</th>\n",
       "      <td>Python</td>\n",
       "      <td>Alice</td>\n",
       "      <td>56</td>\n",
       "      <td>77</td>\n",
       "      <td>88</td>\n",
       "      <td>82.5</td>\n",
       "      <td>221</td>\n",
       "      <td>56</td>\n",
       "      <td>False</td>\n",
       "    </tr>\n",
       "    <tr>\n",
       "      <th>2</th>\n",
       "      <td>Java</td>\n",
       "      <td>Bob</td>\n",
       "      <td>89</td>\n",
       "      <td>53</td>\n",
       "      <td>56</td>\n",
       "      <td>72.5</td>\n",
       "      <td>198</td>\n",
       "      <td>53</td>\n",
       "      <td>True</td>\n",
       "    </tr>\n",
       "    <tr>\n",
       "      <th>3</th>\n",
       "      <td>Python</td>\n",
       "      <td>Bob</td>\n",
       "      <td>56</td>\n",
       "      <td>88</td>\n",
       "      <td>99</td>\n",
       "      <td>93.5</td>\n",
       "      <td>243</td>\n",
       "      <td>56</td>\n",
       "      <td>True</td>\n",
       "    </tr>\n",
       "    <tr>\n",
       "      <th>4</th>\n",
       "      <td>Java</td>\n",
       "      <td>Bo</td>\n",
       "      <td>22</td>\n",
       "      <td>56</td>\n",
       "      <td>66</td>\n",
       "      <td>61.0</td>\n",
       "      <td>144</td>\n",
       "      <td>22</td>\n",
       "      <td>False</td>\n",
       "    </tr>\n",
       "    <tr>\n",
       "      <th>5</th>\n",
       "      <td>Python</td>\n",
       "      <td>Sam</td>\n",
       "      <td>89</td>\n",
       "      <td>99</td>\n",
       "      <td>88</td>\n",
       "      <td>94.0</td>\n",
       "      <td>276</td>\n",
       "      <td>88</td>\n",
       "      <td>True</td>\n",
       "    </tr>\n",
       "  </tbody>\n",
       "</table>\n",
       "</div>"
      ],
      "text/plain": [
       "    class student  exam1  exam2  exam3  score  total  min  better_than_average\n",
       "0    Java   Alice     66     77     88   82.5    231   66                 True\n",
       "1  Python   Alice     56     77     88   82.5    221   56                False\n",
       "2    Java     Bob     89     53     56   72.5    198   53                 True\n",
       "3  Python     Bob     56     88     99   93.5    243   56                 True\n",
       "4    Java      Bo     22     56     66   61.0    144   22                False\n",
       "5  Python     Sam     89     99     88   94.0    276   88                 True"
      ]
     },
     "execution_count": 42,
     "metadata": {},
     "output_type": "execute_result"
    }
   ],
   "source": [
    "#approach-1\n",
    "# first determine whether student did better than average in each course\n",
    "df['better_than_average']  = df.groupby('class')['score'].transform(lambda x: x > x.mean())\n",
    "df"
   ]
  },
  {
   "cell_type": "code",
   "execution_count": 30,
   "metadata": {},
   "outputs": [],
   "source": [
    "# second, re-group per student, and count the number of courses\n",
    "# that are better than average, the number should be equal to the\n",
    "# total number of courses (e.g., 2 in this example)"
   ]
  },
  {
   "cell_type": "code",
   "execution_count": 44,
   "metadata": {},
   "outputs": [
    {
     "data": {
      "text/html": [
       "<div>\n",
       "<style scoped>\n",
       "    .dataframe tbody tr th:only-of-type {\n",
       "        vertical-align: middle;\n",
       "    }\n",
       "\n",
       "    .dataframe tbody tr th {\n",
       "        vertical-align: top;\n",
       "    }\n",
       "\n",
       "    .dataframe thead th {\n",
       "        text-align: right;\n",
       "    }\n",
       "</style>\n",
       "<table border=\"1\" class=\"dataframe\">\n",
       "  <thead>\n",
       "    <tr style=\"text-align: right;\">\n",
       "      <th></th>\n",
       "      <th>class</th>\n",
       "      <th>student</th>\n",
       "      <th>exam1</th>\n",
       "      <th>exam2</th>\n",
       "      <th>exam3</th>\n",
       "      <th>score</th>\n",
       "      <th>total</th>\n",
       "      <th>min</th>\n",
       "      <th>better_than_average</th>\n",
       "    </tr>\n",
       "  </thead>\n",
       "  <tbody>\n",
       "    <tr>\n",
       "      <th>2</th>\n",
       "      <td>Java</td>\n",
       "      <td>Bob</td>\n",
       "      <td>89</td>\n",
       "      <td>53</td>\n",
       "      <td>56</td>\n",
       "      <td>72.5</td>\n",
       "      <td>198</td>\n",
       "      <td>53</td>\n",
       "      <td>True</td>\n",
       "    </tr>\n",
       "    <tr>\n",
       "      <th>3</th>\n",
       "      <td>Python</td>\n",
       "      <td>Bob</td>\n",
       "      <td>56</td>\n",
       "      <td>88</td>\n",
       "      <td>99</td>\n",
       "      <td>93.5</td>\n",
       "      <td>243</td>\n",
       "      <td>56</td>\n",
       "      <td>True</td>\n",
       "    </tr>\n",
       "  </tbody>\n",
       "</table>\n",
       "</div>"
      ],
      "text/plain": [
       "    class student  exam1  exam2  exam3  score  total  min  better_than_average\n",
       "2    Java     Bob     89     53     56   72.5    198   53                 True\n",
       "3  Python     Bob     56     88     99   93.5    243   56                 True"
      ]
     },
     "execution_count": 44,
     "metadata": {},
     "output_type": "execute_result"
    }
   ],
   "source": [
    "total_courses = len(set(df['class']))\n",
    "df2 = df.groupby('student').filter(lambda x: sum(\n",
    "                x['better_than_average']\n",
    "            )  == total_courses\n",
    "        )\n",
    "df2"
   ]
  },
  {
   "cell_type": "code",
   "execution_count": 45,
   "metadata": {},
   "outputs": [
    {
     "data": {
      "text/plain": [
       "{'Bob'}"
      ]
     },
     "execution_count": 45,
     "metadata": {},
     "output_type": "execute_result"
    }
   ],
   "source": [
    "# if we are interested in student names\n",
    "set(df2.student)"
   ]
  },
  {
   "cell_type": "code",
   "execution_count": 46,
   "metadata": {},
   "outputs": [],
   "source": [
    "#good job Bob!"
   ]
  },
  {
   "cell_type": "code",
   "execution_count": 50,
   "metadata": {},
   "outputs": [
    {
     "data": {
      "text/html": [
       "<div>\n",
       "<style scoped>\n",
       "    .dataframe tbody tr th:only-of-type {\n",
       "        vertical-align: middle;\n",
       "    }\n",
       "\n",
       "    .dataframe tbody tr th {\n",
       "        vertical-align: top;\n",
       "    }\n",
       "\n",
       "    .dataframe thead th {\n",
       "        text-align: right;\n",
       "    }\n",
       "</style>\n",
       "<table border=\"1\" class=\"dataframe\">\n",
       "  <thead>\n",
       "    <tr style=\"text-align: right;\">\n",
       "      <th></th>\n",
       "      <th>student</th>\n",
       "      <th>exam1</th>\n",
       "      <th>exam2</th>\n",
       "      <th>exam3</th>\n",
       "      <th>score</th>\n",
       "      <th>total</th>\n",
       "      <th>min</th>\n",
       "      <th>better_than_average</th>\n",
       "      <th>score_avg</th>\n",
       "    </tr>\n",
       "    <tr>\n",
       "      <th>class</th>\n",
       "      <th></th>\n",
       "      <th></th>\n",
       "      <th></th>\n",
       "      <th></th>\n",
       "      <th></th>\n",
       "      <th></th>\n",
       "      <th></th>\n",
       "      <th></th>\n",
       "      <th></th>\n",
       "    </tr>\n",
       "  </thead>\n",
       "  <tbody>\n",
       "    <tr>\n",
       "      <th>Java</th>\n",
       "      <td>Alice</td>\n",
       "      <td>66</td>\n",
       "      <td>77</td>\n",
       "      <td>88</td>\n",
       "      <td>82.5</td>\n",
       "      <td>231</td>\n",
       "      <td>66</td>\n",
       "      <td>True</td>\n",
       "      <td>72.0</td>\n",
       "    </tr>\n",
       "    <tr>\n",
       "      <th>Java</th>\n",
       "      <td>Bob</td>\n",
       "      <td>89</td>\n",
       "      <td>53</td>\n",
       "      <td>56</td>\n",
       "      <td>72.5</td>\n",
       "      <td>198</td>\n",
       "      <td>53</td>\n",
       "      <td>True</td>\n",
       "      <td>72.0</td>\n",
       "    </tr>\n",
       "    <tr>\n",
       "      <th>Python</th>\n",
       "      <td>Bob</td>\n",
       "      <td>56</td>\n",
       "      <td>88</td>\n",
       "      <td>99</td>\n",
       "      <td>93.5</td>\n",
       "      <td>243</td>\n",
       "      <td>56</td>\n",
       "      <td>True</td>\n",
       "      <td>90.0</td>\n",
       "    </tr>\n",
       "    <tr>\n",
       "      <th>Python</th>\n",
       "      <td>Sam</td>\n",
       "      <td>89</td>\n",
       "      <td>99</td>\n",
       "      <td>88</td>\n",
       "      <td>94.0</td>\n",
       "      <td>276</td>\n",
       "      <td>88</td>\n",
       "      <td>True</td>\n",
       "      <td>90.0</td>\n",
       "    </tr>\n",
       "  </tbody>\n",
       "</table>\n",
       "</div>"
      ],
      "text/plain": [
       "       student  exam1  exam2  exam3  score  total  min  better_than_average  \\\n",
       "class                                                                         \n",
       "Java     Alice     66     77     88   82.5    231   66                 True   \n",
       "Java       Bob     89     53     56   72.5    198   53                 True   \n",
       "Python     Bob     56     88     99   93.5    243   56                 True   \n",
       "Python     Sam     89     99     88   94.0    276   88                 True   \n",
       "\n",
       "        score_avg  \n",
       "class              \n",
       "Java         72.0  \n",
       "Java         72.0  \n",
       "Python       90.0  \n",
       "Python       90.0  "
      ]
     },
     "execution_count": 50,
     "metadata": {},
     "output_type": "execute_result"
    }
   ],
   "source": [
    "# approach-2\n",
    "# start with student doing better in each course\n",
    "d"
   ]
  },
  {
   "cell_type": "code",
   "execution_count": 54,
   "metadata": {},
   "outputs": [
    {
     "data": {
      "text/plain": [
       "[{'Bob', 'Sam'}, {'Alice', 'Bob'}]"
      ]
     },
     "execution_count": 54,
     "metadata": {},
     "output_type": "execute_result"
    }
   ],
   "source": [
    "# retrieve students in each course\n",
    "t = [set(d.loc[i].student) for i in set(d.index)]\n",
    "t"
   ]
  },
  {
   "cell_type": "code",
   "execution_count": 55,
   "metadata": {},
   "outputs": [
    {
     "data": {
      "text/plain": [
       "{'Bob'}"
      ]
     },
     "execution_count": 55,
     "metadata": {},
     "output_type": "execute_result"
    }
   ],
   "source": [
    "# do set intersection\n",
    "t[0] & t[1]"
   ]
  },
  {
   "cell_type": "code",
   "execution_count": 56,
   "metadata": {},
   "outputs": [],
   "source": [
    "# in general if there are more than two courses\n",
    "# reduce the list"
   ]
  },
  {
   "cell_type": "code",
   "execution_count": 57,
   "metadata": {},
   "outputs": [],
   "source": [
    "from functools import reduce"
   ]
  },
  {
   "cell_type": "code",
   "execution_count": 58,
   "metadata": {},
   "outputs": [
    {
     "data": {
      "text/plain": [
       "{'Bob'}"
      ]
     },
     "execution_count": 58,
     "metadata": {},
     "output_type": "execute_result"
    }
   ],
   "source": [
    "reduce(lambda x, y: x & y, t)"
   ]
  },
  {
   "cell_type": "code",
   "execution_count": null,
   "metadata": {},
   "outputs": [],
   "source": []
  }
 ],
 "metadata": {
  "kernelspec": {
   "display_name": "Python 3",
   "language": "python",
   "name": "python3"
  },
  "language_info": {
   "codemirror_mode": {
    "name": "ipython",
    "version": 3
   },
   "file_extension": ".py",
   "mimetype": "text/x-python",
   "name": "python",
   "nbconvert_exporter": "python",
   "pygments_lexer": "ipython3",
   "version": "3.7.1"
  }
 },
 "nbformat": 4,
 "nbformat_minor": 2
}
